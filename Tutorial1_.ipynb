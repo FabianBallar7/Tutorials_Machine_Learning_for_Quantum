{
 "cells": [
  {
   "cell_type": "markdown",
   "id": "285d9bbe-7c6f-40d9-a0f8-e76201d8dd6f",
   "metadata": {},
   "source": [
    "<font size=7>  $\\textrm{Tutorial} \\ 1$  </font>\n",
    "\n",
    "<font size=5>  $\\textrm{Playing around with samples}$   </font>\n",
    "\n",
    "<font size=5> $\\textrm{Tasks:}$  </font>"
   ]
  },
  {
   "cell_type": "code",
   "execution_count": 54,
   "id": "20ca30b3-1330-4471-a054-9552128e7952",
   "metadata": {},
   "outputs": [],
   "source": [
    "# #### Hello world\n",
    "\n",
    "# * Hello world using ChatGPT\n",
    "\n",
    "# https://chat.openai.com/share/3fe4c03e-df5e-4d24-b355-ceb58af3c962"
   ]
  },
  {
   "cell_type": "code",
   "execution_count": 55,
   "id": "5f6b3db5-80c1-4b2e-a703-da5709e8e49e",
   "metadata": {},
   "outputs": [
    {
     "name": "stdout",
     "output_type": "stream",
     "text": [
      "Hello, World!\n"
     ]
    }
   ],
   "source": [
    "#This is the most basic code we can write in Python! We're telling the computer, please write to the console the following string of letters.\n",
    "print(\"Hello, World!\")"
   ]
  },
  {
   "cell_type": "code",
   "execution_count": 56,
   "id": "6592e417-cc94-4080-968e-1a7a65b6ad89",
   "metadata": {},
   "outputs": [],
   "source": [
    "#We definitely won't be writing all the code on our own. Using packages and libraries others have built is very convenient! Here's how we tell the computer it should bring those to our enviornment.\n",
    "import numpy as np\n",
    "import matplotlib.pyplot as plt"
   ]
  },
  {
   "cell_type": "code",
   "execution_count": 43,
   "id": "638fd317-b442-4147-85e1-963d15375813",
   "metadata": {},
   "outputs": [],
   "source": [
    "a = 5 #You can assign a value or an object to a variable by equating.\n",
    "b = np.array([1,2,3,4]) #You can also make arrays of quantities. \n",
    "c = np.random.rand(5,5) #Here for example we create a matrix of random numbers of size 5x5"
   ]
  },
  {
   "cell_type": "code",
   "execution_count": 44,
   "id": "220d5028-af7f-4de9-8613-dc696b9ab887",
   "metadata": {},
   "outputs": [
    {
     "data": {
      "text/plain": [
       "[<matplotlib.lines.Line2D at 0x7feafb02b790>]"
      ]
     },
     "execution_count": 44,
     "metadata": {},
     "output_type": "execute_result"
    },
    {
     "data": {
      "image/png": "[encoded data removed]",
      "text/plain": [
       "<Figure size 640x480 with 1 Axes>"
      ]
     },
     "metadata": {},
     "output_type": "display_data"
    }
   ],
   "source": [
    "quad = np.arange(-10,10,0.01)**2\n",
    "plt.plot(np.arange(-10,10,0.01),quad)"
   ]
  },
  {
   "cell_type": "code",
   "execution_count": null,
   "id": "0810c6fc-cc21-4f08-b014-08198c765283",
   "metadata": {},
   "outputs": [],
   "source": []
  },
  {
   "cell_type": "code",
   "execution_count": null,
   "id": "b8bb6a72-dba1-4842-ace7-ac754e071d6d",
   "metadata": {},
   "outputs": [],
   "source": []
  },
  {
   "cell_type": "code",
   "execution_count": 6,
   "id": "9bd517fa-009e-4873-a064-55428c18a6d3",
   "metadata": {},
   "outputs": [],
   "source": [
    "# #### Single spin-1/2\n",
    "\n",
    "# * Take a spin-1/2, define amplitude 1/sqrt(2)\n",
    "# * From probabilities take exact samples\n",
    "# * Print samples\n",
    "# * Reconstruct probability\n",
    "# * Plot the probabilities"
   ]
  },
  {
   "cell_type": "markdown",
   "id": "d1510d74-aab0-4ca9-8641-e5a57fb57f5d",
   "metadata": {},
   "source": [
    "# $ |\\Psi\\rangle = \\frac{1}{\\sqrt{2}} \\left( |\\uparrow\\rangle + |\\downarrow\\rangle\\right) $ #"
   ]
  },
  {
   "cell_type": "code",
   "execution_count": null,
   "id": "b4ed5dac-a156-43ac-93c8-ca194819587f",
   "metadata": {},
   "outputs": [],
   "source": []
  },
  {
   "cell_type": "code",
   "execution_count": 59,
   "id": "8baa28be-3f14-44d2-83fe-4b9984598e66",
   "metadata": {},
   "outputs": [],
   "source": [
    "import numpy as np\n",
    "import matplotlib.pyplot as plt\n",
    "\n",
    "# Define constants\n",
    "amplitude = 1 / np.sqrt(2)\n",
    "\n",
    "# Define spin states\n",
    "spin_states = [1, -1]"
   ]
  },
  {
   "cell_type": "code",
   "execution_count": 60,
   "id": "15a6006a-3314-47dd-a84c-04e8c342530b",
   "metadata": {},
   "outputs": [],
   "source": [
    "# Define probabilities\n",
    "probabilities = np.abs([amplitude, amplitude])**2\n",
    "\n",
    "# Take exact samples based on probabilities\n",
    "samples = np.random.choice(spin_states, size=10000, p=probabilities)"
   ]
  },
  {
   "cell_type": "code",
   "execution_count": null,
   "id": "91868c4f-1be1-41f0-af5f-7811006ed9c0",
   "metadata": {},
   "outputs": [],
   "source": []
  },
  {
   "cell_type": "code",
   "execution_count": 61,
   "id": "3dbe002a-809d-41fd-8349-e0719c947977",
   "metadata": {},
   "outputs": [
    {
     "name": "stdout",
     "output_type": "stream",
     "text": [
      "Samples: [ 1 -1  1 ...  1  1 -1]\n"
     ]
    }
   ],
   "source": [
    "# Print samples\n",
    "print(\"Samples:\", samples)\n",
    "\n",
    "# Reconstruct probability\n",
    "reconstructed_probabilities = np.unique(samples, return_counts=True)[1] / len(samples)"
   ]
  },
  {
   "cell_type": "code",
   "execution_count": 10,
   "id": "926a6078-a9c7-44f6-9202-94e0206c3066",
   "metadata": {},
   "outputs": [
    {
     "data": {
      "text/plain": [
       "array([0.0047, 0.0047])"
      ]
     },
     "execution_count": 10,
     "metadata": {},
     "output_type": "execute_result"
    }
   ],
   "source": [
    "np.abs(reconstructed_probabilities - probabilities)"
   ]
  },
  {
   "cell_type": "code",
   "execution_count": 63,
   "id": "576a5c63-80a7-442b-8f97-399dc79206d0",
   "metadata": {},
   "outputs": [
    {
     "data": {
      "text/plain": [
       "array([4975, 5025])"
      ]
     },
     "execution_count": 63,
     "metadata": {},
     "output_type": "execute_result"
    }
   ],
   "source": [
    "np.unique(samples, return_counts=True)[1]"
   ]
  },
  {
   "cell_type": "code",
   "execution_count": 64,
   "id": "1255df82-7dfc-4091-99be-5c0f59bc8fa1",
   "metadata": {},
   "outputs": [],
   "source": [
    "#Sampling is like putting your hand in a box and pulling out objects, the frequency which will they appear is given by the probability distribution!!"
   ]
  },
  {
   "cell_type": "code",
   "execution_count": 65,
   "id": "759a599a-c914-4ada-b2d7-15a04c5f0056",
   "metadata": {},
   "outputs": [
    {
     "data": {
      "text/plain": [
       "<matplotlib.collections.PathCollection at 0x7feafaef3dc0>"
      ]
     },
     "execution_count": 65,
     "metadata": {},
     "output_type": "execute_result"
    },
    {
     "data": {
      "image/png": "[encoded data removed]",
      "text/plain": [
       "<Figure size 640x480 with 1 Axes>"
      ]
     },
     "metadata": {},
     "output_type": "display_data"
    }
   ],
   "source": [
    "plt.scatter(np.arange(1,len(samples)+1,1),samples)"
   ]
  },
  {
   "cell_type": "code",
   "execution_count": 66,
   "id": "6864a871-f70a-43a7-8776-89b087f794d0",
   "metadata": {},
   "outputs": [
    {
     "data": {
      "image/png": "[encoded data removed]",
      "text/plain": [
       "<Figure size 640x480 with 1 Axes>"
      ]
     },
     "metadata": {},
     "output_type": "display_data"
    }
   ],
   "source": [
    "# Plot the probabilities\n",
    "plt.bar(spin_states, probabilities, color='b', alpha=1, label='Original Probabilities')\n",
    "plt.bar(spin_states, reconstructed_probabilities, color='r', alpha=0.5, label='Reconstructed Probabilities')\n",
    "plt.xlabel('Spin States')\n",
    "plt.ylabel('Probabilities')\n",
    "plt.title('Probability Distribution of Single Spin-1/2')\n",
    "plt.legend()\n",
    "plt.show()"
   ]
  },
  {
   "cell_type": "code",
   "execution_count": null,
   "id": "89886da8-2b3d-470a-bef3-17a9ad32939f",
   "metadata": {},
   "outputs": [],
   "source": []
  },
  {
   "cell_type": "code",
   "execution_count": null,
   "id": "88fe6cf6-c955-4db8-bb92-3cf1c0e74b6c",
   "metadata": {},
   "outputs": [],
   "source": []
  },
  {
   "cell_type": "code",
   "execution_count": null,
   "id": "6675e23c-53cf-401a-a2d9-7bc93c10c20a",
   "metadata": {},
   "outputs": [],
   "source": []
  },
  {
   "cell_type": "code",
   "execution_count": null,
   "id": "9ba21ba1-5ce1-42fe-84a0-9ee78c4a9dc8",
   "metadata": {},
   "outputs": [],
   "source": []
  },
  {
   "cell_type": "code",
   "execution_count": 15,
   "id": "b6d853b8-4d9e-47a4-b9f8-e43ff2255026",
   "metadata": {},
   "outputs": [],
   "source": [
    "# #### Take N spin-1/2\n",
    "\n",
    "# * Take all configurations equally probable\n",
    "# * Some procedures as before\n",
    "# * Now go for the Ising model\n",
    "# * Probabilities: Boltzmann weights\n",
    "# * Calculate partition function -> probabilities\n",
    "# * Take exact samples at low temperatures \n",
    "# * Reconstruct probabilities\n",
    "# * Plot and compare to Boltzmann weights"
   ]
  },
  {
   "cell_type": "code",
   "execution_count": null,
   "id": "5831c29c-c138-4783-a7c3-3559c1352ca7",
   "metadata": {},
   "outputs": [],
   "source": []
  },
  {
   "cell_type": "markdown",
   "id": "08352cbf-1810-4410-9e88-9cb28f0def28",
   "metadata": {},
   "source": [
    "<font size=5> $\\text{First lets construct all possible configurations!} $</font>\n",
    "\n",
    "<font size=4> $[0,1,0]  \\ \\ \\rightarrow \\ \\ 0 \\cdot 2^{2} + 1 \\cdot 2^{1} + 0 \\cdot 2^{0} = 2$ </font>"
   ]
  },
  {
   "cell_type": "code",
   "execution_count": 16,
   "id": "196bbe11-9952-40d7-8045-cd0d812a0739",
   "metadata": {},
   "outputs": [
    {
     "name": "stdout",
     "output_type": "stream",
     "text": [
      "Decimal number: 2\n"
     ]
    }
   ],
   "source": [
    "def binary_to_decimal(binary_array):\n",
    "    \"\"\"Convert a binary array [0,1,1,...,0] to its decimal equivalent.\"\"\"\n",
    "    decimal_number = 0\n",
    "    for bit in binary_array:\n",
    "        decimal_number = (decimal_number << 1) | bit\n",
    "    return decimal_number\n",
    "\n",
    "# Example usage\n",
    "binary_array = [ 0, 1, 0]\n",
    "decimal_number = binary_to_decimal(binary_array)\n",
    "print(\"Decimal number:\", decimal_number)"
   ]
  },
  {
   "cell_type": "code",
   "execution_count": 67,
   "id": "0d0289d0-367e-4340-a8b6-00a6c9e5ee44",
   "metadata": {},
   "outputs": [],
   "source": [
    "#Also the reverse function, integer to array\n",
    "def integer_to_binary(n, N):\n",
    "    \"\"\"Convert an integer to a binary array of a specified length.\"\"\"\n",
    "    return [int(x) for x in bin(n)[2:].zfill(N)]"
   ]
  },
  {
   "cell_type": "code",
   "execution_count": 69,
   "id": "b141246e-6dde-48da-b622-0a493c143f2d",
   "metadata": {},
   "outputs": [],
   "source": [
    "#With this we can now generate all possible configurations \n",
    "def generate_binary_matrix(N):\n",
    "    \"\"\"Generate a matrix of all possible binary vectors of order N.\"\"\"\n",
    "    num_vectors = 2 ** N\n",
    "    matrix = np.zeros((N, num_vectors), dtype=int)\n",
    "    \n",
    "    for i in range(num_vectors):\n",
    "        # Convert the integer i to a binary vector and place it in the matrix\n",
    "        binary_vector = integer_to_binary(i, N)\n",
    "        matrix[:, i] = binary_vector\n",
    "    \n",
    "    return matrix"
   ]
  },
  {
   "cell_type": "code",
   "execution_count": 70,
   "id": "7f2d8d68-8f84-49c6-ba8d-bae2215efd3f",
   "metadata": {},
   "outputs": [],
   "source": [
    "configs = generate_binary_matrix(4)"
   ]
  },
  {
   "cell_type": "code",
   "execution_count": 73,
   "id": "4fe921b1-9afa-46ea-9ab8-f6ce4d9584dc",
   "metadata": {},
   "outputs": [
    {
     "data": {
      "text/plain": [
       "array([[-1, -1, -1, -1, -1, -1, -1, -1,  1,  1,  1,  1,  1,  1,  1,  1],\n",
       "       [-1, -1, -1, -1,  1,  1,  1,  1, -1, -1, -1, -1,  1,  1,  1,  1],\n",
       "       [-1, -1,  1,  1, -1, -1,  1,  1, -1, -1,  1,  1, -1, -1,  1,  1],\n",
       "       [-1,  1, -1,  1, -1,  1, -1,  1, -1,  1, -1,  1, -1,  1, -1,  1]])"
      ]
     },
     "execution_count": 73,
     "metadata": {},
     "output_type": "execute_result"
    }
   ],
   "source": [
    "configs"
   ]
  },
  {
   "cell_type": "code",
   "execution_count": 72,
   "id": "d9cad2f1-308f-4907-8822-255220e33848",
   "metadata": {},
   "outputs": [],
   "source": [
    "configs = 2*configs - 1"
   ]
  },
  {
   "cell_type": "markdown",
   "id": "0407e6d5-95fa-4888-8f1a-8f5f50a2d331",
   "metadata": {},
   "source": [
    "<font size=5> $H = - J \\sum_{i=1}^{N-1} S^z_i S^z_{i+1} $</font>\n",
    "\n",
    "<font size=4> $\\text{Lets think about this energy for a bit.\\ \\ \\ Which configurations have the lowest energy?} $</font>"
   ]
  },
  {
   "cell_type": "code",
   "execution_count": null,
   "id": "15b166a6-b214-41f8-812c-2b455e33e5e6",
   "metadata": {},
   "outputs": [],
   "source": []
  },
  {
   "cell_type": "code",
   "execution_count": 74,
   "id": "3eb7023f-9500-41ca-89b9-7d2395940be1",
   "metadata": {},
   "outputs": [],
   "source": [
    "def Energy(spins, J=1):\n",
    "    \"\"\"\n",
    "    Calculate the energy of a spin configuration using the 1-D nearest neighbor Hamiltonian.\n",
    "    \n",
    "    Parameters:\n",
    "        spins (list or numpy array): Array of spins (values should be +1 or -1).\n",
    "        J (float): Coupling constant, positive for ferromagnetic and negative for antiferromagnetic.\n",
    "    \n",
    "    Returns:\n",
    "        float: The calculated energy of the configuration.\n",
    "    \"\"\"\n",
    "    N = len(spins)\n",
    "    energy = 0\n",
    "    # Sum over all nearest neighbor pairs\n",
    "    for i in range(N - 1):\n",
    "        energy -= J * spins[i] * spins[i + 1]\n",
    "    return energy"
   ]
  },
  {
   "cell_type": "code",
   "execution_count": null,
   "id": "a7016bf2-a078-4cd3-9393-b075745c7160",
   "metadata": {},
   "outputs": [],
   "source": []
  },
  {
   "cell_type": "code",
   "execution_count": 75,
   "id": "632a321e-32bd-429c-ac56-c99b7b3083e0",
   "metadata": {},
   "outputs": [],
   "source": [
    "E_configs = np.apply_along_axis(Energy, 0, configs)"
   ]
  },
  {
   "cell_type": "code",
   "execution_count": 76,
   "id": "4c82053e-7b9f-4c2e-9b41-ac61de5e21df",
   "metadata": {},
   "outputs": [
    {
     "data": {
      "text/plain": [
       "array([-3, -1,  1, -1,  1,  3,  1, -1, -1,  1,  3,  1, -1,  1, -1, -3])"
      ]
     },
     "execution_count": 76,
     "metadata": {},
     "output_type": "execute_result"
    }
   ],
   "source": [
    "E_configs"
   ]
  },
  {
   "cell_type": "code",
   "execution_count": null,
   "id": "b39d28d6-e3b3-45ca-945c-4c9292050948",
   "metadata": {},
   "outputs": [],
   "source": []
  },
  {
   "cell_type": "markdown",
   "id": "6e3da894-0b46-47fd-979b-531b03460b72",
   "metadata": {},
   "source": [
    "<font size=5> $Z = \\sum_{i} e^{-\\beta E_i} $</font>\n",
    "\n",
    "<font size=5> $Z = \\sum_{i} e^{\\beta J \\sum_{i=1}^{N-1} S^z_i S^z_{i+1}} $</font>"
   ]
  },
  {
   "cell_type": "code",
   "execution_count": 24,
   "id": "1eea9148-0c3c-4753-9a44-d175f39e20c9",
   "metadata": {},
   "outputs": [],
   "source": [
    "def Boltzmann_factors(cfgs, beta, J=1):\n",
    "    \"\"\"Compute the partition function for a given set of configurations and temperature.\"\"\"\n",
    "    # Calculate energies for each configuration (column) in the matrix\n",
    "    energies = np.apply_along_axis(Energy, 0, cfgs, J=J)\n",
    "    # Calculate Boltzmann factors\n",
    "    boltzmann_factors = np.exp(-1*beta*energies )\n",
    "\n",
    "    return boltzmann_factors\n",
    "\n",
    "def partition_function(cfgs, beta, J=1):\n",
    "\n",
    "    boltzmann_factors = Boltzmann_factors(cfgs, beta, J=1)\n",
    "    Z = np.sum(boltzmann_factors)\n",
    "    return Z\n",
    "\n",
    "\n",
    "def Probs(cfgs, beta, J=1):\n",
    "    bmf = Boltzmann_factors(cfgs, beta, J=1)\n",
    "    Z = np.sum(bmf)\n",
    "\n",
    "    return bmf/Z"
   ]
  },
  {
   "cell_type": "code",
   "execution_count": null,
   "id": "0e4e511b-0a65-41aa-992b-20abf1edc03d",
   "metadata": {},
   "outputs": [],
   "source": []
  },
  {
   "cell_type": "code",
   "execution_count": 77,
   "id": "117862df-a794-4e05-8fab-105a1c13b21c",
   "metadata": {},
   "outputs": [
    {
     "data": {
      "text/plain": [
       "[<matplotlib.lines.Line2D at 0x7feafad649d0>]"
      ]
     },
     "execution_count": 77,
     "metadata": {},
     "output_type": "execute_result"
    },
    {
     "data": {
      "image/png": "[encoded data removed]",
      "text/plain": [
       "<Figure size 640x480 with 1 Axes>"
      ]
     },
     "metadata": {},
     "output_type": "display_data"
    }
   ],
   "source": [
    "plt.plot(Boltzmann_factors(configs, 5, J=1))"
   ]
  },
  {
   "cell_type": "code",
   "execution_count": 78,
   "id": "e800abf0-125f-4f26-8552-547b6976f3d3",
   "metadata": {},
   "outputs": [
    {
     "data": {
      "text/plain": [
       "<BarContainer object of 16 artists>"
      ]
     },
     "execution_count": 78,
     "metadata": {},
     "output_type": "execute_result"
    },
    {
     "data": {
      "image/png": "[encoded data removed]",
      "text/plain": [
       "<Figure size 640x480 with 1 Axes>"
      ]
     },
     "metadata": {},
     "output_type": "display_data"
    }
   ],
   "source": [
    "Probab =Probs(configs, .1, J=1)\n",
    "plt.bar(range(len(Probab)),Probab)"
   ]
  },
  {
   "cell_type": "code",
   "execution_count": null,
   "id": "dca7c25a-05e0-44f0-a839-f65db1de0746",
   "metadata": {},
   "outputs": [],
   "source": []
  },
  {
   "cell_type": "code",
   "execution_count": null,
   "id": "e49e5345-eef5-431c-95c6-78509e61618d",
   "metadata": {},
   "outputs": [],
   "source": []
  },
  {
   "cell_type": "code",
   "execution_count": 79,
   "id": "c599a441-8fd5-45f7-b66b-13f7bc723f88",
   "metadata": {},
   "outputs": [],
   "source": [
    "from ipywidgets import interactive"
   ]
  },
  {
   "cell_type": "code",
   "execution_count": 80,
   "id": "8efac3e5-b99e-493d-9ac0-a93e3bff3c11",
   "metadata": {},
   "outputs": [],
   "source": [
    "def plot_boltzmann_factors(beta):\n",
    "    \"\"\"Plot Boltzmann factors as a function of the decimal index of each configuration.\"\"\"\n",
    "    N = 4  # Set the number of spins\n",
    "    matrix = generate_binary_matrix(N)\n",
    "    factors = Boltzmann_factors(matrix, beta, J=1)\n",
    "    \n",
    "    plt.figure(figsize=(10, 6))\n",
    "    Probab =Probs(configs, beta, J=1)\n",
    "    plt.bar(range(len(Probab)),Probab)\n",
    "    plt.xlabel('Decimal Index of Configuration')\n",
    "    plt.ylabel('Boltzmann Factor')\n",
    "    plt.title(f'Probabilities at inverse Temperature beta ={beta:.2f}')\n",
    "    plt.grid(True)\n",
    "    plt.show()"
   ]
  },
  {
   "cell_type": "code",
   "execution_count": 81,
   "id": "babaf9bd-6e45-4417-bb76-4f818fbe0476",
   "metadata": {},
   "outputs": [
    {
     "data": {
      "application/vnd.jupyter.widget-view+json": {
       "model_id": "69597c09dc814355b1d294ee804bb4e6",
       "version_major": 2,
       "version_minor": 0
      },
      "text/plain": [
       "interactive(children=(FloatSlider(value=1.401, description='beta', max=3.0, min=0.001), Output()), _dom_classe…"
      ]
     },
     "metadata": {},
     "output_type": "display_data"
    }
   ],
   "source": [
    "interactive_plot = interactive(plot_boltzmann_factors, beta=(0.001, 3, 0.1))\n",
    "display(interactive_plot)"
   ]
  },
  {
   "cell_type": "code",
   "execution_count": 82,
   "id": "5ef26e62-0ff7-41e8-877f-35a44e4d7ad6",
   "metadata": {},
   "outputs": [
    {
     "data": {
      "text/plain": [
       "array([ 1, -1,  1, ...,  1,  1, -1])"
      ]
     },
     "execution_count": 82,
     "metadata": {},
     "output_type": "execute_result"
    }
   ],
   "source": [
    "samples"
   ]
  },
  {
   "cell_type": "markdown",
   "id": "4aec446c-dbd4-401a-8c6a-29550ce13b2a",
   "metadata": {},
   "source": [
    "<font size=4> $\\text{Now we sample at low temperatures,} \\  \\beta = 10$ </font>"
   ]
  },
  {
   "cell_type": "code",
   "execution_count": 84,
   "id": "d0725475-96db-45e4-a165-88294136c5ec",
   "metadata": {},
   "outputs": [],
   "source": [
    "samples = np.random.choice(range(len(Probab)), size=10000, p=Probs(configs, 10))\n",
    "\n",
    "recons_probabilities = np.unique(samples, return_counts=True)[1] / len(samples)"
   ]
  },
  {
   "cell_type": "code",
   "execution_count": 85,
   "id": "85725a1d-0ea9-4852-84b0-b6569e9ac598",
   "metadata": {},
   "outputs": [
    {
     "data": {
      "text/plain": [
       "array([0.5057, 0.4943])"
      ]
     },
     "execution_count": 85,
     "metadata": {},
     "output_type": "execute_result"
    }
   ],
   "source": [
    "recons_probabilities"
   ]
  },
  {
   "cell_type": "code",
   "execution_count": null,
   "id": "7237a3f7-99fb-40d4-965e-0b593860fe33",
   "metadata": {},
   "outputs": [],
   "source": []
  },
  {
   "cell_type": "code",
   "execution_count": 86,
   "id": "72d5bcb3-60ac-4588-9dd9-c4a95744f010",
   "metadata": {},
   "outputs": [
    {
     "data": {
      "image/png": "[encoded data removed]",
      "text/plain": [
       "<Figure size 1000x600 with 1 Axes>"
      ]
     },
     "metadata": {},
     "output_type": "display_data"
    }
   ],
   "source": [
    "# Create bins from min to max with each bin centered on an integer\n",
    "\n",
    "# Determine the range of data for setting bin edges\n",
    "min_val = int(np.min(samples)) - 0.5\n",
    "max_val = int(np.max(samples)) + 1.5\n",
    "\n",
    "# Create bins from min to max with each bin centered on an integer\n",
    "bins = np.arange(min_val, max_val, 1)\n",
    "\n",
    "plt.figure(figsize=(10, 6))\n",
    "plt.hist(samples, bins=bins, alpha=0.7, color='blue', edgecolor='black')\n",
    "\n",
    "# Set ticks to be at the center of each bin\n",
    "plt.xticks(np.arange(int(min_val + 0.5), int(max_val - 0.5), 1))\n",
    "\n",
    "plt.xlabel('Index')\n",
    "plt.ylabel('Frequency')\n",
    "plt.title('Histogram of Integer Occurrences')\n",
    "plt.grid(True)\n",
    "plt.show()\n"
   ]
  },
  {
   "cell_type": "code",
   "execution_count": 34,
   "id": "8ca41e90-ecd4-4b20-9259-87ebc457f49e",
   "metadata": {},
   "outputs": [
    {
     "data": {
      "text/plain": [
       "[<matplotlib.lines.Line2D at 0x7feafb080070>]"
      ]
     },
     "execution_count": 34,
     "metadata": {},
     "output_type": "execute_result"
    },
    {
     "data": {
      "image/png": "[encoded data removed]",
      "text/plain": [
       "<Figure size 640x480 with 1 Axes>"
      ]
     },
     "metadata": {},
     "output_type": "display_data"
    }
   ],
   "source": [
    "plt.plot(Boltzmann_factors(configs, 10, J=1))"
   ]
  },
  {
   "cell_type": "code",
   "execution_count": 87,
   "id": "e65a1986-4993-4e16-b9de-0525b7444a8e",
   "metadata": {},
   "outputs": [],
   "source": [
    "# #### Metropolis-Hastings Monte-Carlo\n",
    "\n",
    "# * Take again the Ising model with the same N\n",
    "# * Let ChatGPT give you a MC algorithm\n",
    "# * Let it run to generate samples\n",
    "# * Check that again you'll find typically aligned spins\n",
    "# * Reconstruct probabilities\n",
    "# * Plot and compare to the previous case and compare to Boltzmann weights"
   ]
  },
  {
   "cell_type": "code",
   "execution_count": null,
   "id": "95664d7c-4e22-440a-816e-cd9a61e6d906",
   "metadata": {},
   "outputs": [],
   "source": []
  },
  {
   "cell_type": "code",
   "execution_count": 36,
   "id": "5b8a7ede-1ac6-406c-81a1-b2378df60535",
   "metadata": {},
   "outputs": [],
   "source": [
    "def metropolis_step(spins, beta, J=1):\n",
    "    \"\"\"\n",
    "    Perform one step of the Metropolis algorithm.\n",
    "    \n",
    "    Parameters:\n",
    "        spins (np.array): Current configuration of spins.\n",
    "        T (float): Temperature of the system.\n",
    "        J (float): Interaction energy coefficient.\n",
    "        \n",
    "    Returns:\n",
    "        np.array: Updated configuration of spins.\n",
    "    \"\"\"\n",
    "    N = len(spins)\n",
    "    spins_og = np.copy(spins)\n",
    "    i = np.random.randint(N)  # Randomly pick a spin to flip\n",
    "    spins[i] *= -1            # Flip the spin\n",
    "    \n",
    "    # Calculate energy change if this flip is accepted\n",
    "    if i == 0:\n",
    "        # First spin, no left neighbor\n",
    "        delta_E = -2 * J * spins[i] * spins[i + 1]\n",
    "    elif i == N - 1:\n",
    "        # Last spin, no right neighbor\n",
    "        delta_E = -2 * J * spins[i] * spins[i - 1]\n",
    "    else:\n",
    "        # Middle spins with both neighbors\n",
    "        delta_E = -2 * J * spins[i] * (spins[i - 1] + spins[i + 1])\n",
    "\n",
    "    # Metropolis criterion\n",
    "    if delta_E < 0 or np.random.rand() < np.exp(-1*delta_E * beta):\n",
    "        # Accept the flip\n",
    "        return spins\n",
    "    else:\n",
    "        # Revert the flip (reject)\n",
    "        spins[i] *= -1\n",
    "        return spins"
   ]
  },
  {
   "cell_type": "code",
   "execution_count": null,
   "id": "733d7f23-9478-445d-bc5f-6723e72e0801",
   "metadata": {},
   "outputs": [],
   "source": []
  },
  {
   "cell_type": "code",
   "execution_count": null,
   "id": "8f3fd281-be65-4be7-ab45-8a6edf35a384",
   "metadata": {},
   "outputs": [],
   "source": []
  },
  {
   "cell_type": "code",
   "execution_count": null,
   "id": "2dba2bd2-9a04-4880-99ae-e752b4968546",
   "metadata": {},
   "outputs": [],
   "source": []
  },
  {
   "cell_type": "code",
   "execution_count": 3,
   "id": "4b4a0d7c-4b2f-4494-921e-690962269c2a",
   "metadata": {
    "scrolled": true
   },
   "outputs": [
    {
     "ename": "NameError",
     "evalue": "name 'np' is not defined",
     "output_type": "error",
     "traceback": [
      "\u001b[0;31m---------------------------------------------------------------------------\u001b[0m",
      "\u001b[0;31mNameError\u001b[0m                                 Traceback (most recent call last)",
      "Cell \u001b[0;32mIn[3], line 37\u001b[0m\n\u001b[1;32m     35\u001b[0m beta \u001b[38;5;241m=\u001b[39m \u001b[38;5;241m3.5\u001b[39m \u001b[38;5;66;03m# Inverse Temperature\u001b[39;00m\n\u001b[1;32m     36\u001b[0m number_samples \u001b[38;5;241m=\u001b[39m \u001b[38;5;241m5000\u001b[39m\n\u001b[0;32m---> 37\u001b[0m samples \u001b[38;5;241m=\u001b[39m \u001b[43mrun_metropolis\u001b[49m\u001b[43m(\u001b[49m\u001b[43mN\u001b[49m\u001b[43m,\u001b[49m\u001b[43m \u001b[49m\u001b[43mbeta\u001b[49m\u001b[43m,\u001b[49m\u001b[38;5;241;43m5000\u001b[39;49m\u001b[43m,\u001b[49m\u001b[43msample_interval\u001b[49m\u001b[38;5;241;43m=\u001b[39;49m\u001b[38;5;241;43m200\u001b[39;49m\u001b[43m)\u001b[49m\n",
      "Cell \u001b[0;32mIn[3], line 21\u001b[0m, in \u001b[0;36mrun_metropolis\u001b[0;34m(N, beta, numSamples, J, sample_interval)\u001b[0m\n\u001b[1;32m     18\u001b[0m equilibration_steps\u001b[38;5;241m=\u001b[39m\u001b[38;5;241m20\u001b[39m\u001b[38;5;241m*\u001b[39mN\n\u001b[1;32m     19\u001b[0m steps\u001b[38;5;241m=\u001b[39mequilibration_steps \u001b[38;5;241m+\u001b[39m sample_interval\u001b[38;5;241m*\u001b[39mnumSamples\n\u001b[0;32m---> 21\u001b[0m spins \u001b[38;5;241m=\u001b[39m \u001b[43mnp\u001b[49m\u001b[38;5;241m.\u001b[39mrandom\u001b[38;5;241m.\u001b[39mchoice([\u001b[38;5;241m-\u001b[39m\u001b[38;5;241m1\u001b[39m, \u001b[38;5;241m1\u001b[39m], size\u001b[38;5;241m=\u001b[39mN)  \u001b[38;5;66;03m# Initial random spins\u001b[39;00m\n\u001b[1;32m     22\u001b[0m samples \u001b[38;5;241m=\u001b[39m []\n\u001b[1;32m     24\u001b[0m \u001b[38;5;28;01mfor\u001b[39;00m step \u001b[38;5;129;01min\u001b[39;00m \u001b[38;5;28mrange\u001b[39m(steps):\n",
      "\u001b[0;31mNameError\u001b[0m: name 'np' is not defined"
     ]
    }
   ],
   "source": [
    "def run_metropolis(N, beta,numSamples,J=1, sample_interval=10):\n",
    "    \"\"\"\n",
    "    Run the Metropolis Monte Carlo algorithm to sample spin configurations after allowing the system to equilibrate,\n",
    "    and with a specified interval between samples to reduce autocorrelation.\n",
    "    \n",
    "    Parameters:\n",
    "        N (int): Number of spins.\n",
    "        T (float): Temperature.\n",
    "        J (float): Interaction energy coefficient.\n",
    "        steps (int): Total number of Metropolis steps to perform.\n",
    "        equilibration_steps (int): Number of steps to discard at the start to allow the system to equilibrate.\n",
    "        sample_interval (int): Interval of steps between collecting samples to reduce autocorrelation.\n",
    "        \n",
    "    Returns:\n",
    "        list: A list of sampled spin configurations.\n",
    "    \"\"\"\n",
    "    \n",
    "    equilibration_steps=20*N\n",
    "    steps=equilibration_steps + sample_interval*numSamples\n",
    "    \n",
    "    spins = np.random.choice([-1, 1], size=N)  # Initial random spins\n",
    "    samples = []\n",
    "    \n",
    "    for step in range(steps):\n",
    "        spins = metropolis_step(spins, beta, J)  \n",
    "        \n",
    "        # Only start collecting samples after the equilibration period\n",
    "        if step >= equilibration_steps and (step - equilibration_steps) % sample_interval == 0:\n",
    "            samples.append(spins.copy())  # Collect samples at specified intervals\n",
    "    \n",
    "    return np.array(samples)\n",
    "\n",
    "# Example usage\n",
    "N = 4  # Number of spins\n",
    "beta = 3.5 # Inverse Temperature\n",
    "number_samples = 5000\n",
    "samples = run_metropolis(N, beta,5000,sample_interval=200)\n",
    "\n"
   ]
  },
  {
   "cell_type": "code",
   "execution_count": 109,
   "id": "91712cc9-7803-4c18-a2a6-2d05dae78b55",
   "metadata": {},
   "outputs": [
    {
     "data": {
      "text/plain": [
       "array([[-1, -1, -1, -1],\n",
       "       [-1, -1, -1, -1],\n",
       "       [-1, -1, -1, -1],\n",
       "       ...,\n",
       "       [-1, -1, -1, -1],\n",
       "       [-1, -1, -1, -1],\n",
       "       [-1, -1, -1, -1]])"
      ]
     },
     "execution_count": 109,
     "metadata": {},
     "output_type": "execute_result"
    }
   ],
   "source": [
    "samples"
   ]
  },
  {
   "cell_type": "code",
   "execution_count": 110,
   "id": "c7b69864-9154-466e-9111-2901cd75d982",
   "metadata": {},
   "outputs": [],
   "source": [
    "cfgs_sampled = np.apply_along_axis(binary_to_decimal, 1, (samples + 1)//2)"
   ]
  },
  {
   "cell_type": "code",
   "execution_count": 111,
   "id": "f100b88b-6e21-4222-96de-f2d3962e7cca",
   "metadata": {},
   "outputs": [
    {
     "data": {
      "text/plain": [
       "array([0, 0, 0, ..., 0, 0, 0])"
      ]
     },
     "execution_count": 111,
     "metadata": {},
     "output_type": "execute_result"
    }
   ],
   "source": [
    "cfgs_sampled"
   ]
  },
  {
   "cell_type": "code",
   "execution_count": 112,
   "id": "e21d7cc6-8c89-4fb8-8c09-ffa06c067a14",
   "metadata": {},
   "outputs": [
    {
     "data": {
      "image/png": "[encoded data removed]",
      "text/plain": [
       "<Figure size 1000x600 with 1 Axes>"
      ]
     },
     "metadata": {},
     "output_type": "display_data"
    }
   ],
   "source": [
    "# Create bins from min to max with each bin centered on an integer\n",
    "\n",
    "# Determine the range of data for setting bin edges\n",
    "min_val = int(np.min(cfgs_sampled)) - 0.5\n",
    "max_val = int(np.max(cfgs_sampled)) + 1.5\n",
    "\n",
    "# Create bins from min to max with each bin centered on an integer\n",
    "bins = np.arange(min_val, max_val, 1)\n",
    "\n",
    "plt.figure(figsize=(10, 6))\n",
    "plt.hist(cfgs_sampled, bins=bins, alpha=0.7, color='blue', edgecolor='black')\n",
    "\n",
    "# Set ticks to be at the center of each bin\n",
    "plt.xticks(np.arange(int(min_val + 0.5), int(max_val - 0.5), 1))\n",
    "\n",
    "plt.xlabel('Integer Value')\n",
    "plt.ylabel('Frequency')\n",
    "plt.title('Histogram of Config Occurrences')\n",
    "plt.grid(True)\n",
    "plt.show()"
   ]
  },
  {
   "cell_type": "code",
   "execution_count": null,
   "id": "d08e769f-a043-43cc-93b5-4f7b64038baa",
   "metadata": {},
   "outputs": [],
   "source": []
  },
  {
   "cell_type": "code",
   "execution_count": null,
   "id": "a7ddf1fa-07c1-4a52-8770-f602819a4b27",
   "metadata": {},
   "outputs": [],
   "source": []
  },
  {
   "cell_type": "code",
   "execution_count": null,
   "id": "f337b69b-1ac1-4863-ac52-6c378df0bc5a",
   "metadata": {},
   "outputs": [],
   "source": []
  },
  {
   "cell_type": "code",
   "execution_count": null,
   "id": "a940f4fd-daf1-49aa-8e9f-6516a2f468cf",
   "metadata": {},
   "outputs": [],
   "source": []
  },
  {
   "cell_type": "code",
   "execution_count": null,
   "id": "12fa9dc3-2a9b-42b0-bffd-4ef931b5bdd8",
   "metadata": {},
   "outputs": [],
   "source": []
  },
  {
   "cell_type": "code",
   "execution_count": null,
   "id": "4479a9bd-b485-44ce-ab2c-11deedb84c8f",
   "metadata": {},
   "outputs": [],
   "source": []
  }
 ],
 "metadata": {
  "kernelspec": {
   "display_name": "Python 3.10",
   "language": "python",
   "name": "condaforge"
  },
  "language_info": {
   "codemirror_mode": {
    "name": "ipython",
    "version": 3
   },
   "file_extension": ".py",
   "mimetype": "text/x-python",
   "name": "python",
   "nbconvert_exporter": "python",
   "pygments_lexer": "ipython3",
   "version": "3.10.14"
  }
 },
 "nbformat": 4,
 "nbformat_minor": 5
}
