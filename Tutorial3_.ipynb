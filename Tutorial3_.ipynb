{
 "cells": [
  {
   "cell_type": "markdown",
   "id": "0acfa41c-166a-47a3-b9b7-63f69bfbb21e",
   "metadata": {},
   "source": [
    "<font size=7>  $\\textrm{Tutorial} \\ 3$  </font>\n",
    "\n",
    "<font size=5>  $\\textrm{Supervised learning phase separation (2)}$   </font>\n",
    "\n"
   ]
  },
  {
   "cell_type": "code",
   "execution_count": null,
   "id": "2c0d90c5-ebb0-40a5-96d6-92c3aa256b53",
   "metadata": {},
   "outputs": [],
   "source": []
  },
  {
   "cell_type": "markdown",
   "id": "67f38e4f-a319-4563-a27d-ddf2a2e6212a",
   "metadata": {},
   "source": [
    "<font size=4>  $\\textrm{We will try to learn the classification of phases into ferromagnetic/paramagnetic based on spin snapshots.}$   </font>\n",
    "\n",
    "<font size=4>  $\\textrm{Our goal: Train a machine learning model that will take in a spin configuration and tell us which phase it lives in for the Ising Hamiltonian.}$   </font>\n",
    "\n",
    "\n",
    "<font size=5> $H = -J \\sum_{\\langle i, j \\rangle}^{}  \\sigma_i^z \\sigma_{j}^z $</font>"
   ]
  },
  {
   "cell_type": "code",
   "execution_count": null,
   "id": "86fdd173-2a15-4a68-bf55-b1c24f0911f0",
   "metadata": {},
   "outputs": [],
   "source": []
  },
  {
   "cell_type": "markdown",
   "id": "37becf48-56ee-4901-9de8-ee8bee62c868",
   "metadata": {},
   "source": [
    "<font size=5>  $\\textrm{a) Preparing the data}$   </font>\n",
    "\n",
    "<font size=4>  $\\textrm{We import the samples generated into Python and set up our Pytorch data loaders}$   </font>"
   ]
  },
  {
   "cell_type": "code",
   "execution_count": 41,
   "id": "0233c150-75d1-4ef4-b8fa-b6559eac5c76",
   "metadata": {},
   "outputs": [],
   "source": [
    "%matplotlib inline\n",
    "from __future__ import division\n",
    "import numpy as np\n",
    "from numpy.random import rand\n",
    "import matplotlib.pyplot as plt"
   ]
  },
  {
   "cell_type": "code",
   "execution_count": null,
   "id": "ab3f1ea4-58d9-4a61-86d9-2798d9866e25",
   "metadata": {},
   "outputs": [],
   "source": []
  },
  {
   "cell_type": "code",
   "execution_count": 2,
   "id": "55f2fa8d-51a5-4e29-bd69-21044ed7e95e",
   "metadata": {},
   "outputs": [],
   "source": [
    "ferro_data = np.load(\"Data/Ising_2D_L30_T1.5_augm.npy\")\n",
    "para_data = np.load(\"Data/Ising_2D_L30_T5_augm.npy\")"
   ]
  },
  {
   "cell_type": "code",
   "execution_count": 3,
   "id": "4439811b-d19f-4d55-b779-8cd9863c7f11",
   "metadata": {},
   "outputs": [],
   "source": [
    "samples_ferro = ferro_data[0:7000]\n",
    "samples_ferro_vali = ferro_data[7000:9000]\n",
    "samples_ferro_test = ferro_data[9000:]\n",
    "\n",
    "label_ferro = np.zeros(7000)\n",
    "label_ferro_vali = np.zeros(2000)\n",
    "label_ferro_test = np.zeros(1000)"
   ]
  },
  {
   "cell_type": "code",
   "execution_count": 4,
   "id": "6fadead3-3247-4159-88ba-e6f7a8d577dd",
   "metadata": {},
   "outputs": [],
   "source": [
    "samples_para = para_data[0:7000]\n",
    "samples_para_vali = para_data[7000:9000]\n",
    "samples_para_test = para_data[9000:]\n",
    "\n",
    "label_para = np.ones(7000)\n",
    "label_para_vali = np.ones(2000)\n",
    "label_para_test = np.ones(1000)"
   ]
  },
  {
   "cell_type": "code",
   "execution_count": null,
   "id": "b7295a0e-bdd2-4cc0-9874-d16026dd331e",
   "metadata": {},
   "outputs": [],
   "source": []
  },
  {
   "cell_type": "code",
   "execution_count": 5,
   "id": "07cc6c90-728c-4f28-a8d5-0e64d8acbe67",
   "metadata": {},
   "outputs": [],
   "source": [
    "import torch\n",
    "from torch.utils.data import Dataset, DataLoader\n",
    "import torch.nn.functional as F"
   ]
  },
  {
   "cell_type": "code",
   "execution_count": 6,
   "id": "93c98fee-d6cd-4280-8982-8e8442fb8a22",
   "metadata": {},
   "outputs": [],
   "source": [
    "class SpinConfigurationDataset(Dataset):\n",
    "    def __init__(self, spin_configs, labels):\n",
    "        # Convert input data to tensors\n",
    "        self.spin_configs = torch.tensor(spin_configs, dtype=torch.float32)\n",
    "        self.labels = torch.tensor(labels, dtype=torch.long)\n",
    "\n",
    "        # Check for consistency in dataset lengths\n",
    "        assert len(self.spin_configs) == len(self.labels), \"Spin configurations and labels must have the same length\"\n",
    "\n",
    "    def __len__(self):\n",
    "        return len(self.labels)\n",
    "\n",
    "    def __getitem__(self, idx):\n",
    "        # Add bounds checking\n",
    "        if idx >= len(self.labels) or idx < 0:\n",
    "            raise IndexError(f\"Index {idx} is out of bounds for dataset with size {len(self.labels)}\")\n",
    "        \n",
    "        spin_config = self.spin_configs[idx]\n",
    "        label = self.labels[idx]\n",
    "        return spin_config, label\n"
   ]
  },
  {
   "cell_type": "code",
   "execution_count": null,
   "id": "c912cbdb-9ca5-406f-9aa4-8ef5e825d711",
   "metadata": {},
   "outputs": [],
   "source": []
  },
  {
   "cell_type": "code",
   "execution_count": 7,
   "id": "dfefbc37-3127-4d93-86b0-08f994d862bd",
   "metadata": {},
   "outputs": [],
   "source": [
    "training_data = torch.tensor(np.concatenate((samples_ferro,samples_para)))"
   ]
  },
  {
   "cell_type": "code",
   "execution_count": 8,
   "id": "8a791a7c-1d3d-4742-b13c-7202397197f0",
   "metadata": {},
   "outputs": [],
   "source": [
    "training_labels = torch.tensor(np.concatenate((label_ferro,label_para )))"
   ]
  },
  {
   "cell_type": "code",
   "execution_count": 9,
   "id": "d9a09f80-eea9-48ce-9620-9fff0f25d668",
   "metadata": {},
   "outputs": [
    {
     "name": "stderr",
     "output_type": "stream",
     "text": [
      "/tmp/ipykernel_3628818/3685099551.py:18: UserWarning: To copy construct from a tensor, it is recommended to use sourceTensor.clone().detach() or sourceTensor.clone().detach().requires_grad_(True), rather than torch.tensor(sourceTensor).\n",
      "  self.spin_configs = torch.tensor(spin_configs, dtype=torch.float32)\n",
      "/tmp/ipykernel_3628818/3685099551.py:19: UserWarning: To copy construct from a tensor, it is recommended to use sourceTensor.clone().detach() or sourceTensor.clone().detach().requires_grad_(True), rather than torch.tensor(sourceTensor).\n",
      "  self.labels = torch.tensor(labels, dtype=torch.long)\n"
     ]
    }
   ],
   "source": [
    "dataset = SpinConfigurationDataset(training_data, training_labels)"
   ]
  },
  {
   "cell_type": "code",
   "execution_count": 10,
   "id": "0703601c-bb1e-45fb-be9c-503e07c27051",
   "metadata": {},
   "outputs": [],
   "source": [
    "# Create data loader\n",
    "batch_size = 500\n",
    "shuffle = True\n",
    "data_loader = DataLoader(dataset, batch_size=batch_size, shuffle=shuffle)"
   ]
  },
  {
   "cell_type": "code",
   "execution_count": null,
   "id": "0a2a1825-5909-4296-a7d3-9a7e9fffbdcc",
   "metadata": {},
   "outputs": [],
   "source": []
  },
  {
   "cell_type": "code",
   "execution_count": null,
   "id": "a40373b4-88f5-4e61-adcf-c2f5208fe41e",
   "metadata": {},
   "outputs": [],
   "source": []
  },
  {
   "cell_type": "code",
   "execution_count": 11,
   "id": "a2e8dbd4-99eb-4157-9cf0-e5029ca8635b",
   "metadata": {},
   "outputs": [],
   "source": [
    "test_data = torch.tensor(np.concatenate((samples_ferro_test,samples_para_test)))"
   ]
  },
  {
   "cell_type": "code",
   "execution_count": 12,
   "id": "f1bd8c7f-8076-496b-b0ae-c9cf2a649c31",
   "metadata": {},
   "outputs": [],
   "source": [
    "test_labels = torch.tensor(np.concatenate((label_ferro_test,label_para_test )))"
   ]
  },
  {
   "cell_type": "code",
   "execution_count": 13,
   "id": "eaa3a3a8-3a82-42d0-a30b-a621fbec1d84",
   "metadata": {},
   "outputs": [
    {
     "name": "stderr",
     "output_type": "stream",
     "text": [
      "/tmp/ipykernel_3628818/3685099551.py:18: UserWarning: To copy construct from a tensor, it is recommended to use sourceTensor.clone().detach() or sourceTensor.clone().detach().requires_grad_(True), rather than torch.tensor(sourceTensor).\n",
      "  self.spin_configs = torch.tensor(spin_configs, dtype=torch.float32)\n",
      "/tmp/ipykernel_3628818/3685099551.py:19: UserWarning: To copy construct from a tensor, it is recommended to use sourceTensor.clone().detach() or sourceTensor.clone().detach().requires_grad_(True), rather than torch.tensor(sourceTensor).\n",
      "  self.labels = torch.tensor(labels, dtype=torch.long)\n"
     ]
    }
   ],
   "source": [
    "test_data_loader = SpinConfigurationDataset(test_data, test_labels)"
   ]
  },
  {
   "cell_type": "code",
   "execution_count": 14,
   "id": "0c4ca61e-44ba-4df0-80de-0034dd48d1e8",
   "metadata": {},
   "outputs": [],
   "source": [
    "# Create data loader\n",
    "batch_size = 500\n",
    "shuffle = True\n",
    "test_data_loader = DataLoader(test_data_loader, batch_size=batch_size, shuffle=shuffle)"
   ]
  },
  {
   "cell_type": "code",
   "execution_count": null,
   "id": "3665ca9c-d786-497f-83e8-c6c7fefe62fb",
   "metadata": {},
   "outputs": [],
   "source": []
  },
  {
   "cell_type": "code",
   "execution_count": 15,
   "id": "64043be3-9338-4f6f-8ef7-05dab4ba2c0d",
   "metadata": {},
   "outputs": [],
   "source": [
    "vali_data = torch.tensor(np.concatenate((samples_ferro_vali,samples_para_vali)))"
   ]
  },
  {
   "cell_type": "code",
   "execution_count": 16,
   "id": "cc2a8041-ba9e-475a-bcb9-f3566c187b25",
   "metadata": {},
   "outputs": [],
   "source": [
    "vali_labels = torch.tensor(np.concatenate((label_ferro_vali,label_para_vali )))"
   ]
  },
  {
   "cell_type": "code",
   "execution_count": 17,
   "id": "14df8932-8960-4d3a-a740-177cb2955145",
   "metadata": {},
   "outputs": [
    {
     "name": "stderr",
     "output_type": "stream",
     "text": [
      "/tmp/ipykernel_3628818/3685099551.py:18: UserWarning: To copy construct from a tensor, it is recommended to use sourceTensor.clone().detach() or sourceTensor.clone().detach().requires_grad_(True), rather than torch.tensor(sourceTensor).\n",
      "  self.spin_configs = torch.tensor(spin_configs, dtype=torch.float32)\n",
      "/tmp/ipykernel_3628818/3685099551.py:19: UserWarning: To copy construct from a tensor, it is recommended to use sourceTensor.clone().detach() or sourceTensor.clone().detach().requires_grad_(True), rather than torch.tensor(sourceTensor).\n",
      "  self.labels = torch.tensor(labels, dtype=torch.long)\n"
     ]
    }
   ],
   "source": [
    "vali_data_loader = SpinConfigurationDataset(vali_data, vali_labels)"
   ]
  },
  {
   "cell_type": "code",
   "execution_count": 18,
   "id": "e2718eac-9fe4-4880-a4d9-3c27ccf7b522",
   "metadata": {},
   "outputs": [],
   "source": [
    "# Create data loader\n",
    "batch_size = 500\n",
    "shuffle = True\n",
    "vali_data_loader = DataLoader(vali_data_loader, batch_size=batch_size, shuffle=shuffle)"
   ]
  },
  {
   "cell_type": "code",
   "execution_count": null,
   "id": "8d577b1c-2cab-4529-b779-f2de9f186e30",
   "metadata": {},
   "outputs": [],
   "source": []
  },
  {
   "cell_type": "code",
   "execution_count": null,
   "id": "ea05938b-61a3-4c7e-8ae8-99d0155e08c7",
   "metadata": {},
   "outputs": [],
   "source": []
  },
  {
   "cell_type": "code",
   "execution_count": null,
   "id": "f91b8c87-9a1e-44cf-a263-b3c346277760",
   "metadata": {},
   "outputs": [],
   "source": []
  },
  {
   "cell_type": "code",
   "execution_count": 174,
   "id": "61a7549c-2b7c-4b81-98b5-fdab59ba1a37",
   "metadata": {},
   "outputs": [
    {
     "data": {
      "text/plain": [
       "<torch._C.Generator at 0x7f9d30122390>"
      ]
     },
     "execution_count": 174,
     "metadata": {},
     "output_type": "execute_result"
    }
   ],
   "source": [
    "import torch.nn as nn\n",
    "import torch.optim as optim\n",
    "from torch.utils.data import TensorDataset\n",
    "\n",
    "# Define the neural network architecture\n",
    "class FFNN(nn.Module):\n",
    "    def __init__(self, input_size, hidden_size, output_size):\n",
    "        super(FFNN, self).__init__()\n",
    "        self.fc1 = nn.Linear(input_size, hidden_size)\n",
    "        self.relu = nn.ReLU()\n",
    "        self.fc2 = nn.Linear(hidden_size, output_size)\n",
    "        self.sigmoid = nn.Sigmoid()\n",
    "\n",
    "    def forward(self, x):\n",
    "        x = self.fc1(x)\n",
    "        x = self.relu(x)\n",
    "        x = self.fc2(x)\n",
    "        # x = self.sigmoid(x)\n",
    "        return x\n",
    "\n",
    "# Set random seed for reproducibility\n",
    "torch.manual_seed(420)"
   ]
  },
  {
   "cell_type": "code",
   "execution_count": 175,
   "id": "a414c126-0605-4121-8578-f239dfe98099",
   "metadata": {},
   "outputs": [],
   "source": [
    "# Define hyperparameters\n",
    "input_size = ferro_data.shape[1]\n",
    "hidden_size = 500\n",
    "output_size = 2  # Number of classes\n",
    "learning_rate = 0.001\n",
    "num_epochs = 30"
   ]
  },
  {
   "cell_type": "markdown",
   "id": "82061306-ec0b-4fb7-9f92-65d26b0ac46c",
   "metadata": {},
   "source": [
    "The `nn.CrossEntropyLoss` in PyTorch combines the operations of `nn.LogSoftmax` and `nn.NLLLoss` (negative log likelihood loss) in a single class. This is a commonly used loss function for classification tasks, particularly for multi-class classification (although ours is binary, but this work more generally for you to try stuff on your own!).\n",
    "\n",
    "Here's a detailed explanation of how `nn.CrossEntropyLoss` works:\n",
    "\n",
    "### Step-by-Step Breakdown\n",
    "\n",
    "1. **Raw Model Outputs (Logits):**\n",
    "   - Your neural network outputs raw scores, called logits, for each class. These logits are not probabilities and can take any value (positive or negative).\n",
    "   - Let's denote the logits for a single sample as $\\mathbf{z} = [z_1, z_2, \\ldots, z_C]$, where $C$ is the number of classes.\n",
    "\n",
    "2. **Softmax Function:**\n",
    "   - The softmax function is applied to the logits to convert them into probabilities. The softmax function is defined as:\n",
    "     <font size=4>$\n",
    "     \\sigma(\\mathbf{z})_i = \\frac{e^{z_i}}{\\sum_{j=1}^C e^{z_j}}\n",
    "     $</font>\n",
    "   - This ensures that the output probabilities are in the range $[0, 1]$ and sum to $1$.\n",
    "\n",
    "3. **Log-Softmax:**\n",
    "   - Instead of applying the softmax function and then taking the logarithm, `nn.CrossEntropyLoss` directly computes the log-softmax. This is more numerically stable. The log-softmax for class \\(i\\) is defined as: \n",
    "     <font size=4>$\n",
    "     \\ \\log(\\sigma(\\mathbf{z})_i) = z_i - \\log\\left(\\sum_{j=1}^C e^{z_j}\\right)\n",
    "     $</font>\n",
    "\n",
    "4. **Negative Log Likelihood Loss (NLLLoss):**\n",
    "   - The loss for a single sample with true class label $y$ is given by:\n",
    "     $\n",
    "     \\ \\text{NLLLoss} = -\\log(\\sigma(\\mathbf{z})_y)\n",
    "     $\n",
    "   - This corresponds to the negative log probability of the true class.\n",
    "\n",
    "5. **Combining the Steps:**\n",
    "   - `nn.CrossEntropyLoss` combines the log-softmax and NLLLoss steps into one function for efficiency. The final loss for a batch of samples is the average (or sum, depending on the settings) of the individual losses.\n",
    "\n",
    "### Formula for Cross Entropy Loss\n",
    "The cross-entropy loss for a single sample can be written as:\n",
    "<font size=4>$\\text{CrossEntropyLoss}(\\mathbf{z}, y) = - \\log\\left(\\frac{e^{z_y}}{\\sum_{j=1}^C e^{z_j}}\\right)$ </font>\n",
    "where $z_y$ is the logit corresponding to the true class $y$.\n",
    "\n",
    "For a batch of $N$ samples, the average cross-entropy loss is:\n",
    "<font size=4>$\n",
    "\\text{CrossEntropyLoss}(\\mathbf{Z}, \\mathbf{y}) = -\\frac{1}{N} \\sum_{i=1}^N \\log\\left(\\frac{e^{z_{i,y_i}}}{\\sum_{j=1}^C e^{z_{i,j}}}\\right)\n",
    "$</font>\n",
    "where $z_{i,y_i}$ is the logit for the $i$-th sample corresponding to its true class $y_i$.\n",
    "\n",
    "### Practical Example in PyTorch\n",
    "\n",
    "Here's how we typically implement it `nn.CrossEntropyLoss` in a PyTorch model:"
   ]
  },
  {
   "cell_type": "code",
   "execution_count": 178,
   "id": "0d0c4d22-1ad1-4791-b784-a2542c87a983",
   "metadata": {},
   "outputs": [],
   "source": [
    "# # Learning rate\n",
    "# lr = 0.01\n",
    "# # Alpha (smoothing constant)\n",
    "# alpha = 0.2\n",
    "# # Epsilon (term added to improve numerical stability)\n",
    "# eps = 1e-8\n",
    "# # Weight decay (L2 penalty)\n",
    "# weight_decay = 0.2\n",
    "# # Momentum\n",
    "# momentum = 1\n",
    "# # Centered (if True, computes the centered RMSProp, the gradient is normalized by an estimation of its variance)\n",
    "# centered = False\n",
    "\n",
    "# optimizer = optim.RMSprop(model.parameters(), lr=lr, alpha=alpha, eps=eps, weight_decay=weight_decay, momentum=momentum, centered=centered)"
   ]
  },
  {
   "cell_type": "code",
   "execution_count": 179,
   "id": "1a4658c0-95ff-4c31-a761-6ccb1a979224",
   "metadata": {},
   "outputs": [
    {
     "name": "stdout",
     "output_type": "stream",
     "text": [
      "Epoch [1/30], Loss: 0.6771975776978901, Test Loss: 0.6714314058423042\n",
      "Epoch [2/30], Loss: 0.6771975968565259, Test Loss: 0.6714314192533493\n",
      "Epoch [3/30], Loss: 0.6771975776978901, Test Loss: 0.6714314192533493\n",
      "Epoch [4/30], Loss: 0.6771975862128394, Test Loss: 0.6714314103126526\n",
      "Epoch [5/30], Loss: 0.6771975776978901, Test Loss: 0.6714314118027687\n",
      "Epoch [6/30], Loss: 0.6771976053714752, Test Loss: 0.6714314252138138\n"
     ]
    },
    {
     "ename": "KeyboardInterrupt",
     "evalue": "",
     "output_type": "error",
     "traceback": [
      "\u001b[0;31m---------------------------------------------------------------------------\u001b[0m",
      "\u001b[0;31mKeyboardInterrupt\u001b[0m                         Traceback (most recent call last)",
      "Cell \u001b[0;32mIn[179], line 41\u001b[0m\n\u001b[1;32m     39\u001b[0m \u001b[38;5;28;01mwith\u001b[39;00m torch\u001b[38;5;241m.\u001b[39mno_grad():\n\u001b[1;32m     40\u001b[0m     \u001b[38;5;28;01mfor\u001b[39;00m inputs2, targets2 \u001b[38;5;129;01min\u001b[39;00m temps_data_loader:\u001b[38;5;66;03m#temps_data_loader:\u001b[39;00m\n\u001b[0;32m---> 41\u001b[0m         outputs \u001b[38;5;241m=\u001b[39m \u001b[43mmodel\u001b[49m\u001b[43m(\u001b[49m\u001b[43minputs2\u001b[49m\u001b[43m)\u001b[49m\n\u001b[1;32m     42\u001b[0m         loss \u001b[38;5;241m=\u001b[39m criterion(outputs, targets2)\n\u001b[1;32m     43\u001b[0m         test_loss \u001b[38;5;241m+\u001b[39m\u001b[38;5;241m=\u001b[39m loss\u001b[38;5;241m.\u001b[39mitem()\n",
      "File \u001b[0;32m/srv/condaforge/lib/python3.10/site-packages/torch/nn/modules/module.py:1501\u001b[0m, in \u001b[0;36mModule._call_impl\u001b[0;34m(self, *args, **kwargs)\u001b[0m\n\u001b[1;32m   1496\u001b[0m \u001b[38;5;66;03m# If we don't have any hooks, we want to skip the rest of the logic in\u001b[39;00m\n\u001b[1;32m   1497\u001b[0m \u001b[38;5;66;03m# this function, and just call forward.\u001b[39;00m\n\u001b[1;32m   1498\u001b[0m \u001b[38;5;28;01mif\u001b[39;00m \u001b[38;5;129;01mnot\u001b[39;00m (\u001b[38;5;28mself\u001b[39m\u001b[38;5;241m.\u001b[39m_backward_hooks \u001b[38;5;129;01mor\u001b[39;00m \u001b[38;5;28mself\u001b[39m\u001b[38;5;241m.\u001b[39m_backward_pre_hooks \u001b[38;5;129;01mor\u001b[39;00m \u001b[38;5;28mself\u001b[39m\u001b[38;5;241m.\u001b[39m_forward_hooks \u001b[38;5;129;01mor\u001b[39;00m \u001b[38;5;28mself\u001b[39m\u001b[38;5;241m.\u001b[39m_forward_pre_hooks\n\u001b[1;32m   1499\u001b[0m         \u001b[38;5;129;01mor\u001b[39;00m _global_backward_pre_hooks \u001b[38;5;129;01mor\u001b[39;00m _global_backward_hooks\n\u001b[1;32m   1500\u001b[0m         \u001b[38;5;129;01mor\u001b[39;00m _global_forward_hooks \u001b[38;5;129;01mor\u001b[39;00m _global_forward_pre_hooks):\n\u001b[0;32m-> 1501\u001b[0m     \u001b[38;5;28;01mreturn\u001b[39;00m \u001b[43mforward_call\u001b[49m\u001b[43m(\u001b[49m\u001b[38;5;241;43m*\u001b[39;49m\u001b[43margs\u001b[49m\u001b[43m,\u001b[49m\u001b[43m \u001b[49m\u001b[38;5;241;43m*\u001b[39;49m\u001b[38;5;241;43m*\u001b[39;49m\u001b[43mkwargs\u001b[49m\u001b[43m)\u001b[49m\n\u001b[1;32m   1502\u001b[0m \u001b[38;5;66;03m# Do not call functions when jit is used\u001b[39;00m\n\u001b[1;32m   1503\u001b[0m full_backward_hooks, non_full_backward_hooks \u001b[38;5;241m=\u001b[39m [], []\n",
      "Cell \u001b[0;32mIn[174], line 16\u001b[0m, in \u001b[0;36mFFNN.forward\u001b[0;34m(self, x)\u001b[0m\n\u001b[1;32m     14\u001b[0m \u001b[38;5;28;01mdef\u001b[39;00m \u001b[38;5;21mforward\u001b[39m(\u001b[38;5;28mself\u001b[39m, x):\n\u001b[1;32m     15\u001b[0m     x \u001b[38;5;241m=\u001b[39m \u001b[38;5;28mself\u001b[39m\u001b[38;5;241m.\u001b[39mfc1(x)\n\u001b[0;32m---> 16\u001b[0m     x \u001b[38;5;241m=\u001b[39m \u001b[38;5;28;43mself\u001b[39;49m\u001b[38;5;241;43m.\u001b[39;49m\u001b[43mrelu\u001b[49m\u001b[43m(\u001b[49m\u001b[43mx\u001b[49m\u001b[43m)\u001b[49m\n\u001b[1;32m     17\u001b[0m     x \u001b[38;5;241m=\u001b[39m \u001b[38;5;28mself\u001b[39m\u001b[38;5;241m.\u001b[39mfc2(x)\n\u001b[1;32m     18\u001b[0m     \u001b[38;5;66;03m# x = self.sigmoid(x)\u001b[39;00m\n",
      "File \u001b[0;32m/srv/condaforge/lib/python3.10/site-packages/torch/nn/modules/module.py:1501\u001b[0m, in \u001b[0;36mModule._call_impl\u001b[0;34m(self, *args, **kwargs)\u001b[0m\n\u001b[1;32m   1496\u001b[0m \u001b[38;5;66;03m# If we don't have any hooks, we want to skip the rest of the logic in\u001b[39;00m\n\u001b[1;32m   1497\u001b[0m \u001b[38;5;66;03m# this function, and just call forward.\u001b[39;00m\n\u001b[1;32m   1498\u001b[0m \u001b[38;5;28;01mif\u001b[39;00m \u001b[38;5;129;01mnot\u001b[39;00m (\u001b[38;5;28mself\u001b[39m\u001b[38;5;241m.\u001b[39m_backward_hooks \u001b[38;5;129;01mor\u001b[39;00m \u001b[38;5;28mself\u001b[39m\u001b[38;5;241m.\u001b[39m_backward_pre_hooks \u001b[38;5;129;01mor\u001b[39;00m \u001b[38;5;28mself\u001b[39m\u001b[38;5;241m.\u001b[39m_forward_hooks \u001b[38;5;129;01mor\u001b[39;00m \u001b[38;5;28mself\u001b[39m\u001b[38;5;241m.\u001b[39m_forward_pre_hooks\n\u001b[1;32m   1499\u001b[0m         \u001b[38;5;129;01mor\u001b[39;00m _global_backward_pre_hooks \u001b[38;5;129;01mor\u001b[39;00m _global_backward_hooks\n\u001b[1;32m   1500\u001b[0m         \u001b[38;5;129;01mor\u001b[39;00m _global_forward_hooks \u001b[38;5;129;01mor\u001b[39;00m _global_forward_pre_hooks):\n\u001b[0;32m-> 1501\u001b[0m     \u001b[38;5;28;01mreturn\u001b[39;00m \u001b[43mforward_call\u001b[49m\u001b[43m(\u001b[49m\u001b[38;5;241;43m*\u001b[39;49m\u001b[43margs\u001b[49m\u001b[43m,\u001b[49m\u001b[43m \u001b[49m\u001b[38;5;241;43m*\u001b[39;49m\u001b[38;5;241;43m*\u001b[39;49m\u001b[43mkwargs\u001b[49m\u001b[43m)\u001b[49m\n\u001b[1;32m   1502\u001b[0m \u001b[38;5;66;03m# Do not call functions when jit is used\u001b[39;00m\n\u001b[1;32m   1503\u001b[0m full_backward_hooks, non_full_backward_hooks \u001b[38;5;241m=\u001b[39m [], []\n",
      "File \u001b[0;32m/srv/condaforge/lib/python3.10/site-packages/torch/nn/modules/activation.py:103\u001b[0m, in \u001b[0;36mReLU.forward\u001b[0;34m(self, input)\u001b[0m\n\u001b[1;32m    102\u001b[0m \u001b[38;5;28;01mdef\u001b[39;00m \u001b[38;5;21mforward\u001b[39m(\u001b[38;5;28mself\u001b[39m, \u001b[38;5;28minput\u001b[39m: Tensor) \u001b[38;5;241m-\u001b[39m\u001b[38;5;241m>\u001b[39m Tensor:\n\u001b[0;32m--> 103\u001b[0m     \u001b[38;5;28;01mreturn\u001b[39;00m \u001b[43mF\u001b[49m\u001b[38;5;241;43m.\u001b[39;49m\u001b[43mrelu\u001b[49m\u001b[43m(\u001b[49m\u001b[38;5;28;43minput\u001b[39;49m\u001b[43m,\u001b[49m\u001b[43m \u001b[49m\u001b[43minplace\u001b[49m\u001b[38;5;241;43m=\u001b[39;49m\u001b[38;5;28;43mself\u001b[39;49m\u001b[38;5;241;43m.\u001b[39;49m\u001b[43minplace\u001b[49m\u001b[43m)\u001b[49m\n",
      "File \u001b[0;32m/srv/condaforge/lib/python3.10/site-packages/torch/nn/functional.py:1457\u001b[0m, in \u001b[0;36mrelu\u001b[0;34m(input, inplace)\u001b[0m\n\u001b[1;32m   1455\u001b[0m     result \u001b[38;5;241m=\u001b[39m torch\u001b[38;5;241m.\u001b[39mrelu_(\u001b[38;5;28minput\u001b[39m)\n\u001b[1;32m   1456\u001b[0m \u001b[38;5;28;01melse\u001b[39;00m:\n\u001b[0;32m-> 1457\u001b[0m     result \u001b[38;5;241m=\u001b[39m \u001b[43mtorch\u001b[49m\u001b[38;5;241;43m.\u001b[39;49m\u001b[43mrelu\u001b[49m\u001b[43m(\u001b[49m\u001b[38;5;28;43minput\u001b[39;49m\u001b[43m)\u001b[49m\n\u001b[1;32m   1458\u001b[0m \u001b[38;5;28;01mreturn\u001b[39;00m result\n",
      "\u001b[0;31mKeyboardInterrupt\u001b[0m: "
     ]
    }
   ],
   "source": [
    "# Instantiate the model\n",
    "model = FFNN(input_size, hidden_size, output_size)\n",
    "\n",
    "# Define loss function and optimizer\n",
    "criterion = nn.CrossEntropyLoss()\n",
    "optimizer = optim.Adam(model.parameters(), lr=learning_rate)\n",
    "\n",
    "# Initialize lists to store losses\n",
    "training_losses = []\n",
    "validation_losses = []\n",
    "\n",
    "# Training loop\n",
    "for epoch in range(num_epochs):\n",
    "    total_loss = 0.0\n",
    "    batch_losses = []  # Store batch losses for the current epoch\n",
    "    for inputs, targets in data_loader:\n",
    "        model.train()  # Ensure the model is in training mode\n",
    "\n",
    "        # Forward pass\n",
    "        outputs = model(inputs)\n",
    "\n",
    "        # Compute loss\n",
    "        loss = criterion(outputs, targets)\n",
    "\n",
    "        # Backward pass and optimization\n",
    "        optimizer.zero_grad()\n",
    "        loss.backward()\n",
    "        optimizer.step()\n",
    "\n",
    "        total_loss += loss.item()\n",
    "        batch_losses.append(loss.item())  # Append batch loss to the list\n",
    "\n",
    "    training_losses.append(batch_losses)  # Append epoch's batch losses to the training_losses list\n",
    "\n",
    "    # Validation\n",
    "    model.eval()  # Set the model to evaluation mode\n",
    "    test_loss = 0.0\n",
    "    batch_val_losses = []  # Store validation batch losses for the current epoch\n",
    "    with torch.no_grad():\n",
    "        for inputs2, targets2 in temps_data_loader:#temps_data_loader:\n",
    "            outputs = model(inputs2)\n",
    "            loss = criterion(outputs, targets2)\n",
    "            test_loss += loss.item()\n",
    "            batch_val_losses.append(loss.item())  # Append validation batch loss to the list\n",
    "\n",
    "    validation_losses.append(batch_val_losses)  # Append epoch's validation losses to the validation_losses list\n",
    "\n",
    "    # Print average loss for this epoch\n",
    "    print(f\"Epoch [{epoch+1}/{num_epochs}], Loss: {total_loss / len(data_loader)}, Test Loss: {test_loss / len(temps_data_loader)}\")\n"
   ]
  },
  {
   "cell_type": "code",
   "execution_count": null,
   "id": "09222037-966b-4f7f-b84a-aa47060aeb88",
   "metadata": {},
   "outputs": [],
   "source": []
  },
  {
   "cell_type": "code",
   "execution_count": 162,
   "id": "e9c895d2-d173-4507-b408-b5ac4499ce12",
   "metadata": {},
   "outputs": [
    {
     "data": {
      "image/png": "[encoded data removed]",
      "text/plain": [
       "<Figure size 1000x600 with 1 Axes>"
      ]
     },
     "metadata": {},
     "output_type": "display_data"
    }
   ],
   "source": [
    "import matplotlib.pyplot as plt\n",
    "\n",
    "# Assuming training_losses and validation_losses are already defined as lists of lists\n",
    "# Flatten the lists to get the losses per epoch\n",
    "avg_training_losses = [sum(epoch_losses) / len(epoch_losses) for epoch_losses in training_losses]\n",
    "avg_validation_losses = [sum(epoch_losses) / len(epoch_losses) for epoch_losses in validation_losses]\n",
    "\n",
    "# Create the plot\n",
    "plt.figure(figsize=(10, 6))\n",
    "\n",
    "# Plot training and validation losses\n",
    "plt.plot(avg_training_losses, label='Training Loss', color='blue', linestyle='-', marker='o')\n",
    "plt.plot(avg_validation_losses, label='Validation Loss', color='red', linestyle='--', marker='x')\n",
    "\n",
    "# plt.axhline(test_loss / len(test_data_loader))\n",
    "\n",
    "# Add title and labels with proper formatting\n",
    "plt.title('Training and Validation Loss Over Epochs', fontsize=16)\n",
    "plt.xlabel('Epoch', fontsize=14)\n",
    "plt.ylabel('Loss', fontsize=14)\n",
    "\n",
    "# Add grid for better readability\n",
    "plt.grid(True)\n",
    "\n",
    "# Add legend\n",
    "plt.legend(fontsize=12)\n",
    "\n",
    "plt.yscale(\"log\")\n",
    "# Set tick parameters\n",
    "plt.xticks(fontsize=12)\n",
    "plt.yticks(fontsize=12)\n",
    "\n",
    "# Save the plot as an image file (optional)\n",
    "plt.savefig('training_validation_loss_plot.png', dpi=300, bbox_inches='tight')\n",
    "\n",
    "# Show the plot\n",
    "plt.show()\n"
   ]
  },
  {
   "cell_type": "code",
   "execution_count": null,
   "id": "278c0129-67b5-4d21-8d79-8ca959020b47",
   "metadata": {},
   "outputs": [],
   "source": []
  },
  {
   "cell_type": "code",
   "execution_count": null,
   "id": "a6a9a4a2-9785-4855-ae61-89aed65333f3",
   "metadata": {},
   "outputs": [],
   "source": []
  },
  {
   "cell_type": "code",
   "execution_count": null,
   "id": "ffdce482-8e5b-4b18-a8b7-92202d60e13c",
   "metadata": {},
   "outputs": [],
   "source": []
  },
  {
   "cell_type": "code",
   "execution_count": null,
   "id": "a0becc39-522f-4ac6-b761-457ea1b6a023",
   "metadata": {},
   "outputs": [],
   "source": []
  },
  {
   "cell_type": "markdown",
   "id": "a205cb34-9fc3-48dd-a602-c70c5029e454",
   "metadata": {},
   "source": [
    "<font size=5>  $\\textrm{Testing:}$   </font>"
   ]
  },
  {
   "cell_type": "code",
   "execution_count": null,
   "id": "c1b1b72f-5b06-4997-a49b-51570b62cdab",
   "metadata": {},
   "outputs": [],
   "source": []
  },
  {
   "cell_type": "code",
   "execution_count": null,
   "id": "41f8cb20-f477-418c-9a45-73b6e3da72f8",
   "metadata": {},
   "outputs": [],
   "source": []
  },
  {
   "cell_type": "code",
   "execution_count": 79,
   "id": "73529352-85ac-4c04-a04f-b4f29cddef7c",
   "metadata": {},
   "outputs": [],
   "source": [
    "# Validation\n",
    "model.eval()  # Set the model to evaluation mode\n",
    "test_loss = 0.0\n",
    "correct = 0\n",
    "total = 0\n",
    "with torch.no_grad():\n",
    "    for inputs, targets in test_data_loader:\n",
    "        outputs = model(inputs)\n",
    "        loss = criterion(outputs, targets)\n",
    "        test_loss += loss.item()"
   ]
  },
  {
   "cell_type": "code",
   "execution_count": 80,
   "id": "90ca6551-0560-423e-a4cf-8e7cfdb5b9f0",
   "metadata": {},
   "outputs": [
    {
     "name": "stdout",
     "output_type": "stream",
     "text": [
      "Test Loss: 0.00010613975246087648\n"
     ]
    }
   ],
   "source": [
    "print(f\"Test Loss: {test_loss / len(test_data_loader)}\")"
   ]
  },
  {
   "cell_type": "code",
   "execution_count": null,
   "id": "97e15e88-5b90-4efd-bd5f-3cf8ea39f327",
   "metadata": {},
   "outputs": [],
   "source": []
  },
  {
   "cell_type": "code",
   "execution_count": null,
   "id": "21e37335-a692-4f93-b8f4-a501ef2c80fe",
   "metadata": {},
   "outputs": [],
   "source": []
  },
  {
   "cell_type": "code",
   "execution_count": null,
   "id": "b046702d-af18-4879-9244-b5b1901b0c5b",
   "metadata": {},
   "outputs": [],
   "source": []
  },
  {
   "cell_type": "markdown",
   "id": "3a4c774e-1185-4022-bd05-8c4ec144639d",
   "metadata": {},
   "source": [
    "<font size=5>  $\\textrm{Various temperatures}$   </font>"
   ]
  },
  {
   "cell_type": "code",
   "execution_count": null,
   "id": "25e3fd20-a6a2-470c-9956-93c71e7fe3c9",
   "metadata": {},
   "outputs": [],
   "source": []
  },
  {
   "cell_type": "code",
   "execution_count": 56,
   "id": "89908668-09e2-4a43-9872-93d7ea6e628a",
   "metadata": {},
   "outputs": [],
   "source": [
    "T05data = np.load(\"Data/Ising_2D_L30_T0.5.npy\")\n",
    "T05datalabel = np.zeros(5000)\n",
    "\n",
    "T1data = np.load(\"Data/Ising_2D_L30_T1.npy\")\n",
    "T1datalabel = np.zeros(5000)\n",
    "\n",
    "T10data = np.load(\"Data/Ising_2D_L30_T10.npy\")\n",
    "T10datalabel = np.ones(5000)\n",
    "\n",
    "T3p2data = np.load(\"Data/Ising_2D_L30_T3.2.npy\")\n",
    "T3p2datalabel = np.ones(5000)"
   ]
  },
  {
   "cell_type": "code",
   "execution_count": 24,
   "id": "ef92fe22-7671-420e-a708-44858d34069d",
   "metadata": {},
   "outputs": [],
   "source": [
    "combined_data = np.vstack((T05data, T1data, T10data, T3p2data))\n",
    "combined_labels = np.hstack((T05datalabel, T1datalabel, T10datalabel, T3p2datalabel))"
   ]
  },
  {
   "cell_type": "code",
   "execution_count": 57,
   "id": "b6e75fe0-6cd2-42fb-8a52-c90697aed808",
   "metadata": {},
   "outputs": [],
   "source": [
    "temps_dataset = SpinConfigurationDataset(combined_data, combined_labels)"
   ]
  },
  {
   "cell_type": "code",
   "execution_count": 58,
   "id": "59edabde-6771-43e2-9f2e-c73b541d071f",
   "metadata": {},
   "outputs": [],
   "source": [
    "# Create data loader\n",
    "batch_size = 500\n",
    "shuffle = True\n",
    "temps_data_loader = DataLoader(temps_dataset, batch_size=batch_size, shuffle=shuffle)"
   ]
  },
  {
   "cell_type": "code",
   "execution_count": 81,
   "id": "7cf6f9d3-ef6b-49cb-abe8-803a6e84d32c",
   "metadata": {},
   "outputs": [],
   "source": [
    "# Validation\n",
    "model.eval()  # Set the model to evaluation mode\n",
    "test_loss = 0.0\n",
    "correct = 0\n",
    "total = 0\n",
    "with torch.no_grad():\n",
    "    for inputs, targets in temps_data_loader:\n",
    "        outputs = model(inputs)\n",
    "        loss = criterion(outputs, targets)\n",
    "        test_loss += loss.item()"
   ]
  },
  {
   "cell_type": "code",
   "execution_count": 82,
   "id": "c7ae00e7-d1db-41f8-a549-8f8e7fd83e6a",
   "metadata": {},
   "outputs": [
    {
     "name": "stdout",
     "output_type": "stream",
     "text": [
      "Test Loss: 0.0009978395657526562\n"
     ]
    }
   ],
   "source": [
    "print(f\"Test Loss: {test_loss / len(temps_data_loader)}\")"
   ]
  },
  {
   "cell_type": "code",
   "execution_count": null,
   "id": "5a5d70b1-f67e-4ee5-a1e7-23a7bd5baf88",
   "metadata": {},
   "outputs": [],
   "source": []
  },
  {
   "cell_type": "code",
   "execution_count": 151,
   "id": "a45caa3c-082e-456d-932d-ab6f932a98e0",
   "metadata": {},
   "outputs": [
    {
     "data": {
      "text/plain": [
       "<matplotlib.image.AxesImage at 0x7f9cf8a738b0>"
      ]
     },
     "execution_count": 151,
     "metadata": {},
     "output_type": "execute_result"
    },
    {
     "data": {
      "image/png": "[encoded data removed]",
      "text/plain": [
       "<Figure size 640x480 with 1 Axes>"
      ]
     },
     "metadata": {},
     "output_type": "display_data"
    }
   ],
   "source": [
    "plt.imshow(np.reshape(T05data[500],(30,30)))"
   ]
  },
  {
   "cell_type": "code",
   "execution_count": null,
   "id": "dccb34f5-1b6f-45c0-9892-59a2c79f8c42",
   "metadata": {},
   "outputs": [],
   "source": []
  },
  {
   "cell_type": "code",
   "execution_count": null,
   "id": "871ff476-3663-4e97-befe-e24dcb360e0d",
   "metadata": {},
   "outputs": [],
   "source": []
  },
  {
   "cell_type": "code",
   "execution_count": 97,
   "id": "54c3bd79-b729-4a3d-a22e-2b2a407ec608",
   "metadata": {},
   "outputs": [],
   "source": [
    "Tcritdata = np.load(\"Data/Ising_2D_L30_T2.6.npy\")\n",
    "Tcritdatalabel = np.zeros(5000)"
   ]
  },
  {
   "cell_type": "code",
   "execution_count": 98,
   "id": "9ca39ae5-085f-43b6-aee8-06cbe1d042fc",
   "metadata": {},
   "outputs": [],
   "source": [
    "crit_dataset = SpinConfigurationDataset(Tcritdata, Tcritdatalabel)"
   ]
  },
  {
   "cell_type": "code",
   "execution_count": 99,
   "id": "f961fddd-48f5-4fb9-a709-566c95f26bb6",
   "metadata": {},
   "outputs": [],
   "source": [
    "# Create data loader\n",
    "batch_size = 500\n",
    "shuffle = True\n",
    "crit_data_loader = DataLoader(crit_dataset, batch_size=batch_size, shuffle=shuffle)"
   ]
  },
  {
   "cell_type": "code",
   "execution_count": 100,
   "id": "23d07d2b-051e-4420-9be5-68c5ac716669",
   "metadata": {},
   "outputs": [],
   "source": [
    "# Validation\n",
    "model.eval()  # Set the model to evaluation mode\n",
    "test_loss = 0.0\n",
    "correct = 0\n",
    "total = 0\n",
    "with torch.no_grad():\n",
    "    for inputs, targets in crit_data_loader:\n",
    "        outputs = model(inputs)\n",
    "        loss = criterion(outputs, targets)\n",
    "        test_loss += loss.item()"
   ]
  },
  {
   "cell_type": "code",
   "execution_count": 101,
   "id": "779b2846-0d39-4e15-9942-4a2bd60db2e1",
   "metadata": {},
   "outputs": [
    {
     "name": "stdout",
     "output_type": "stream",
     "text": [
      "Test Loss: 5.549159049987793\n"
     ]
    }
   ],
   "source": [
    "print(f\"Test Loss: {test_loss / len(crit_data_loader)}\")"
   ]
  },
  {
   "cell_type": "code",
   "execution_count": null,
   "id": "10ecb3b4-9e87-47e9-a38b-6e4e2d0d0d4b",
   "metadata": {},
   "outputs": [],
   "source": []
  },
  {
   "cell_type": "code",
   "execution_count": null,
   "id": "44df89ce-8f54-4300-a710-50080e78e2db",
   "metadata": {},
   "outputs": [],
   "source": []
  },
  {
   "cell_type": "code",
   "execution_count": null,
   "id": "9c3b32c8-8321-4cec-b4cd-f314cac4d702",
   "metadata": {},
   "outputs": [],
   "source": []
  },
  {
   "cell_type": "code",
   "execution_count": null,
   "id": "daa0da6f-87f5-4915-b052-92feaf046209",
   "metadata": {},
   "outputs": [],
   "source": []
  }
 ],
 "metadata": {
  "kernelspec": {
   "display_name": "Python 3.10",
   "language": "python",
   "name": "condaforge"
  },
  "language_info": {
   "codemirror_mode": {
    "name": "ipython",
    "version": 3
   },
   "file_extension": ".py",
   "mimetype": "text/x-python",
   "name": "python",
   "nbconvert_exporter": "python",
   "pygments_lexer": "ipython3",
   "version": "3.10.14"
  }
 },
 "nbformat": 4,
 "nbformat_minor": 5
}
